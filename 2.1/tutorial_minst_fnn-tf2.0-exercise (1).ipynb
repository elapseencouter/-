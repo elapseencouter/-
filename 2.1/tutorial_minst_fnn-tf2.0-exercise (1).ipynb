{
 "cells": [
  {
   "cell_type": "markdown",
   "metadata": {},
   "source": [
    "## 准备数据"
   ]
  },
  {
   "cell_type": "code",
   "execution_count": 15,
   "metadata": {},
   "outputs": [],
   "source": [
    "import os\n",
    "import numpy as np\n",
    "import tensorflow as tf\n",
    "from tensorflow import keras\n",
    "from tensorflow.keras import layers, optimizers, datasets\n",
    "\n",
    "os.environ['TF_CPP_MIN_LOG_LEVEL'] = '2'  # or any {'0', '1', '2'}\n",
    "\n",
    "def mnist_dataset():\n",
    "    (x, y), (x_test, y_test) = datasets.mnist.load_data()\n",
    "    #normalize\n",
    "    x = x/255.0\n",
    "    x_test = x_test/255.0\n",
    "    \n",
    "    return (x, y), (x_test, y_test)"
   ]
  },
  {
   "cell_type": "code",
   "execution_count": 16,
   "metadata": {},
   "outputs": [
    {
     "name": "stdout",
     "output_type": "stream",
     "text": [
      "[(1, 'a'), (2, 'b'), (3, 'c'), (4, 'd')]\n"
     ]
    }
   ],
   "source": [
    "print(list(zip([1, 2, 3, 4], ['a', 'b', 'c', 'd'])))"
   ]
  },
  {
   "cell_type": "markdown",
   "metadata": {},
   "source": [
    "## 建立模型"
   ]
  },
  {
   "cell_type": "code",
   "execution_count": 17,
   "metadata": {},
   "outputs": [],
   "source": [
    "class myModel:\n",
    "    def __init__(self):\n",
    "        ####################\n",
    "        '''声明模型对应的参数'''\n",
    "        self.W1 = tf.Variable(tf.random.normal(shape=(28 * 28, 128), stddev=0.01), trainable=True)\n",
    "        self.b1 = tf.Variable(tf.zeros(shape=(128,)), trainable=True)\n",
    "        self.W2 = tf.Variable(tf.random.normal(shape=(128, 10), stddev=0.01), trainable=True)\n",
    "        self.b2 = tf.Variable(tf.zeros(shape=(10,)), trainable=True)\n",
    "        ####################\n",
    "    def __call__(self, x):\n",
    "        ####################\n",
    "        '''实现模型函数体，返回未归一化的logits'''\n",
    "        x_flattened = tf.reshape(x, [-1, 784])\n",
    "        h1 = tf.matmul(x_flattened, self.W1) + self.b1\n",
    "        activated_h1 = tf.tanh(h1)\n",
    "        logits = tf.matmul(activated_h1, self.W2) + self.b2\n",
    "        ####################\n",
    "        return logits\n",
    "        \n",
    "model = myModel()\n",
    "\n",
    "optimizer = optimizers.Adam()"
   ]
  },
  {
   "cell_type": "markdown",
   "metadata": {},
   "source": [
    "## 计算 loss"
   ]
  },
  {
   "cell_type": "code",
   "execution_count": 18,
   "metadata": {},
   "outputs": [],
   "source": [
    "@tf.function\n",
    "def compute_loss(logits, labels):\n",
    "    return tf.reduce_mean(\n",
    "        tf.nn.sparse_softmax_cross_entropy_with_logits(\n",
    "            logits=logits, labels=labels))\n",
    "\n",
    "@tf.function\n",
    "def compute_accuracy(logits, labels):\n",
    "    predictions = tf.argmax(logits, axis=1)\n",
    "    return tf.reduce_mean(tf.cast(tf.equal(predictions, labels), tf.float32))\n",
    "\n",
    "@tf.function\n",
    "def train_one_step(model, optimizer, x, y):\n",
    "    with tf.GradientTape() as tape:\n",
    "        logits = model(x)\n",
    "        loss = compute_loss(logits, y)\n",
    "\n",
    "    # compute gradient\n",
    "    trainable_vars = [model.W1, model.W2, model.b1, model.b2]\n",
    "    grads = tape.gradient(loss, trainable_vars)\n",
    "    for g, v in zip(grads, trainable_vars):\n",
    "        v.assign_sub(0.01*g)\n",
    "\n",
    "    accuracy = compute_accuracy(logits, y)\n",
    "\n",
    "    # loss and accuracy is scalar tensor\n",
    "    return loss, accuracy\n",
    "\n",
    "@tf.function\n",
    "def test(model, x, y):\n",
    "    logits = model(x)\n",
    "    loss = compute_loss(logits, y)\n",
    "    accuracy = compute_accuracy(logits, y)\n",
    "    return loss, accuracy"
   ]
  },
  {
   "cell_type": "markdown",
   "metadata": {},
   "source": [
    "## 实际训练"
   ]
  },
  {
   "cell_type": "code",
   "execution_count": 19,
   "metadata": {},
   "outputs": [
    {
     "name": "stdout",
     "output_type": "stream",
     "text": [
      "epoch 0 : loss 2.303093 ; accuracy 0.09515\n",
      "epoch 1 : loss 2.302821 ; accuracy 0.0995\n",
      "epoch 2 : loss 2.302549 ; accuracy 0.10508333\n",
      "epoch 3 : loss 2.3022766 ; accuracy 0.111383334\n",
      "epoch 4 : loss 2.302005 ; accuracy 0.11776666\n",
      "epoch 5 : loss 2.3017333 ; accuracy 0.12465\n",
      "epoch 6 : loss 2.3014615 ; accuracy 0.13261667\n",
      "epoch 7 : loss 2.3011897 ; accuracy 0.14026667\n",
      "epoch 8 : loss 2.3009176 ; accuracy 0.14881666\n",
      "epoch 9 : loss 2.3006463 ; accuracy 0.15726666\n",
      "epoch 10 : loss 2.300374 ; accuracy 0.16631667\n",
      "epoch 11 : loss 2.3001022 ; accuracy 0.17496666\n",
      "epoch 12 : loss 2.2998302 ; accuracy 0.18425\n",
      "epoch 13 : loss 2.2995584 ; accuracy 0.19385\n",
      "epoch 14 : loss 2.299286 ; accuracy 0.20371667\n",
      "epoch 15 : loss 2.2990136 ; accuracy 0.21213333\n",
      "epoch 16 : loss 2.298741 ; accuracy 0.2215\n",
      "epoch 17 : loss 2.2984686 ; accuracy 0.22981666\n",
      "epoch 18 : loss 2.2981954 ; accuracy 0.23766667\n",
      "epoch 19 : loss 2.2979221 ; accuracy 0.24626666\n",
      "epoch 20 : loss 2.297649 ; accuracy 0.25381666\n",
      "epoch 21 : loss 2.297375 ; accuracy 0.26146665\n",
      "epoch 22 : loss 2.297101 ; accuracy 0.26836666\n",
      "epoch 23 : loss 2.2968266 ; accuracy 0.27516666\n",
      "epoch 24 : loss 2.2965522 ; accuracy 0.28165\n",
      "epoch 25 : loss 2.296277 ; accuracy 0.28798333\n",
      "epoch 26 : loss 2.296002 ; accuracy 0.29366666\n",
      "epoch 27 : loss 2.295726 ; accuracy 0.29943332\n",
      "epoch 28 : loss 2.2954497 ; accuracy 0.30456668\n",
      "epoch 29 : loss 2.295173 ; accuracy 0.31001666\n",
      "epoch 30 : loss 2.294896 ; accuracy 0.31521666\n",
      "epoch 31 : loss 2.2946181 ; accuracy 0.3199\n",
      "epoch 32 : loss 2.2943401 ; accuracy 0.32455\n",
      "epoch 33 : loss 2.2940617 ; accuracy 0.32926667\n",
      "epoch 34 : loss 2.2937825 ; accuracy 0.33425\n",
      "epoch 35 : loss 2.2935026 ; accuracy 0.33865\n",
      "epoch 36 : loss 2.2932224 ; accuracy 0.34345\n",
      "epoch 37 : loss 2.2929413 ; accuracy 0.34806666\n",
      "epoch 38 : loss 2.2926595 ; accuracy 0.35328335\n",
      "epoch 39 : loss 2.2923777 ; accuracy 0.35773334\n",
      "epoch 40 : loss 2.2920947 ; accuracy 0.36246666\n",
      "epoch 41 : loss 2.291811 ; accuracy 0.36723334\n",
      "epoch 42 : loss 2.2915266 ; accuracy 0.37233335\n",
      "epoch 43 : loss 2.2912416 ; accuracy 0.37758332\n",
      "epoch 44 : loss 2.290956 ; accuracy 0.38256666\n",
      "epoch 45 : loss 2.2906692 ; accuracy 0.38756666\n",
      "epoch 46 : loss 2.2903821 ; accuracy 0.39231667\n",
      "epoch 47 : loss 2.2900937 ; accuracy 0.39743334\n",
      "epoch 48 : loss 2.2898047 ; accuracy 0.40261668\n",
      "epoch 49 : loss 2.2895148 ; accuracy 0.40705\n",
      "test loss 2.289222 ; accuracy 0.4049\n"
     ]
    }
   ],
   "source": [
    "train_data, test_data = mnist_dataset()\n",
    "for epoch in range(50):\n",
    "    loss, accuracy = train_one_step(model, optimizer, \n",
    "                                    tf.constant(train_data[0], dtype=tf.float32), \n",
    "                                    tf.constant(train_data[1], dtype=tf.int64))\n",
    "    print('epoch', epoch, ': loss', loss.numpy(), '; accuracy', accuracy.numpy())\n",
    "loss, accuracy = test(model, \n",
    "                      tf.constant(test_data[0], dtype=tf.float32), \n",
    "                      tf.constant(test_data[1], dtype=tf.int64))\n",
    "\n",
    "print('test loss', loss.numpy(), '; accuracy', accuracy.numpy())"
   ]
  },
  {
   "cell_type": "code",
   "execution_count": null,
   "metadata": {},
   "outputs": [],
   "source": []
  },
  {
   "cell_type": "code",
   "execution_count": null,
   "metadata": {},
   "outputs": [],
   "source": []
  }
 ],
 "metadata": {
  "kernelspec": {
   "display_name": "Python 3 (ipykernel)",
   "language": "python",
   "name": "python3"
  },
  "language_info": {
   "codemirror_mode": {
    "name": "ipython",
    "version": 3
   },
   "file_extension": ".py",
   "mimetype": "text/x-python",
   "name": "python",
   "nbconvert_exporter": "python",
   "pygments_lexer": "ipython3",
   "version": "3.11.5"
  }
 },
 "nbformat": 4,
 "nbformat_minor": 4
}
